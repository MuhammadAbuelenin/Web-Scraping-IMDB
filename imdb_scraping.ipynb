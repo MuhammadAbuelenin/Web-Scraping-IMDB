{
 "cells": [
  {
   "cell_type": "code",
   "execution_count": 1,
   "id": "31375a6f",
   "metadata": {},
   "outputs": [],
   "source": [
    "import pandas as pd\n",
    "import numpy as np\n",
    "import requests\n",
    "from bs4 import BeautifulSoup"
   ]
  },
  {
   "cell_type": "code",
   "execution_count": 2,
   "id": "05b7f125",
   "metadata": {},
   "outputs": [],
   "source": [
    "# here url of the site which we want to scrap from\n",
    "url = \"https://www.imdb.com/search/title/?count=100&groups=top_1000&sort=user_rating\"\n",
    "response = requests.get(url)\n",
    "soup = BeautifulSoup(response.content, \"html.parser\")"
   ]
  },
  {
   "cell_type": "code",
   "execution_count": 3,
   "id": "b5b8bf51",
   "metadata": {},
   "outputs": [],
   "source": [
    "#creating var to save data\n",
    "movie_name = []\n",
    "year = []\n",
    "time = []\n",
    "rating = []\n",
    "metascore = []\n",
    "votes = []\n",
    "gross = []"
   ]
  },
  {
   "cell_type": "code",
   "execution_count": 4,
   "id": "6267179c",
   "metadata": {},
   "outputs": [],
   "source": [
    "# here we find the whole div including the all details for each moive\n",
    "movie_data = soup.findAll('div', attrs={'class': 'lister-item-content'})"
   ]
  },
  {
   "cell_type": "code",
   "execution_count": 5,
   "id": "12edf223",
   "metadata": {},
   "outputs": [],
   "source": [
    "# loop for the whole list just by name\n",
    "for i in movie_data:\n",
    "    name = i.h3.a.text\n",
    "    movie_name.append(name)\n",
    "    \n",
    "    year_of_movie = i.h3.find('span', class_=\"lister-item-year text-muted unbold\").text\n",
    "    new_year = year_of_movie.replace(\"(\", \"\").replace(\")\", \"\").replace(\"I\",\"\").strip()\n",
    "    year.append(new_year)\n",
    "    \n",
    "    time_run = i.p.find('span', class_=\"runtime\").text.replace(\" min\", \"\")\n",
    "    time.append(time_run)\n",
    "    \n",
    "    rating_fetch = i.div.strong.text\n",
    "    rating.append(rating_fetch)\n",
    "    \n",
    "    score_fetch = i.find('span', class_=\"metascore\").text.replace(\" \", \"\") if i.find('span', class_=\"metascore\") else '^^^'\n",
    "    metascore.append(score_fetch)\n",
    "    \n",
    "    votes_fetch = i.find_all('span', attrs={'name': 'nv'})\n",
    "    vote = votes_fetch[0].text\n",
    "    votes.append(vote)\n",
    "    \n",
    "    grosses = votes_fetch[1].text if len(votes_fetch) > 1 else \"^^^\"\n",
    "    gross.append(grosses)"
   ]
  },
  {
   "cell_type": "code",
   "execution_count": 6,
   "id": "d90a08ad",
   "metadata": {},
   "outputs": [
    {
     "data": {
      "text/plain": [
       "100"
      ]
     },
     "execution_count": 6,
     "metadata": {},
     "output_type": "execute_result"
    }
   ],
   "source": [
    "# checking the total number of the list\n",
    "np.count_nonzero(movie_name)"
   ]
  },
  {
   "cell_type": "code",
   "execution_count": 7,
   "id": "5a8ebd75",
   "metadata": {},
   "outputs": [],
   "source": [
    "df = pd.DataFrame({'Name of Movie': movie_name, \n",
    "                    \"Year\": year,\n",
    "                     \"Watch Time\": time,\n",
    "                      \"Moive Rating\": rating,\n",
    "                      \"Metascore\": metascore,\n",
    "                      \"Votes\": votes,\n",
    "                      \"Gross\": gross})"
   ]
  },
  {
   "cell_type": "code",
   "execution_count": 8,
   "id": "6ad934d9",
   "metadata": {},
   "outputs": [
    {
     "data": {
      "text/html": [
       "<div>\n",
       "<style scoped>\n",
       "    .dataframe tbody tr th:only-of-type {\n",
       "        vertical-align: middle;\n",
       "    }\n",
       "\n",
       "    .dataframe tbody tr th {\n",
       "        vertical-align: top;\n",
       "    }\n",
       "\n",
       "    .dataframe thead th {\n",
       "        text-align: right;\n",
       "    }\n",
       "</style>\n",
       "<table border=\"1\" class=\"dataframe\">\n",
       "  <thead>\n",
       "    <tr style=\"text-align: right;\">\n",
       "      <th></th>\n",
       "      <th>Name of Movie</th>\n",
       "      <th>Year</th>\n",
       "      <th>Watch Time</th>\n",
       "      <th>Moive Rating</th>\n",
       "      <th>Metascore</th>\n",
       "      <th>Votes</th>\n",
       "      <th>Gross</th>\n",
       "    </tr>\n",
       "  </thead>\n",
       "  <tbody>\n",
       "    <tr>\n",
       "      <th>0</th>\n",
       "      <td>The Shawshank Redemption</td>\n",
       "      <td>1994</td>\n",
       "      <td>142</td>\n",
       "      <td>9.3</td>\n",
       "      <td>80</td>\n",
       "      <td>2,463,054</td>\n",
       "      <td>$28.34M</td>\n",
       "    </tr>\n",
       "    <tr>\n",
       "      <th>1</th>\n",
       "      <td>The Godfather</td>\n",
       "      <td>1972</td>\n",
       "      <td>175</td>\n",
       "      <td>9.2</td>\n",
       "      <td>100</td>\n",
       "      <td>1,703,352</td>\n",
       "      <td>$134.97M</td>\n",
       "    </tr>\n",
       "    <tr>\n",
       "      <th>2</th>\n",
       "      <td>Soorarai Pottru</td>\n",
       "      <td>2020</td>\n",
       "      <td>153</td>\n",
       "      <td>9.1</td>\n",
       "      <td>^^^</td>\n",
       "      <td>89,915</td>\n",
       "      <td>^^^</td>\n",
       "    </tr>\n",
       "    <tr>\n",
       "      <th>3</th>\n",
       "      <td>The Dark Knight</td>\n",
       "      <td>2008</td>\n",
       "      <td>152</td>\n",
       "      <td>9.0</td>\n",
       "      <td>84</td>\n",
       "      <td>2,418,163</td>\n",
       "      <td>$534.86M</td>\n",
       "    </tr>\n",
       "    <tr>\n",
       "      <th>4</th>\n",
       "      <td>The Godfather: Part II</td>\n",
       "      <td>1974</td>\n",
       "      <td>202</td>\n",
       "      <td>9.0</td>\n",
       "      <td>90</td>\n",
       "      <td>1,183,158</td>\n",
       "      <td>$57.30M</td>\n",
       "    </tr>\n",
       "  </tbody>\n",
       "</table>\n",
       "</div>"
      ],
      "text/plain": [
       "              Name of Movie  Year Watch Time Moive Rating Metascore  \\\n",
       "0  The Shawshank Redemption  1994        142          9.3        80   \n",
       "1             The Godfather  1972        175          9.2       100   \n",
       "2           Soorarai Pottru  2020        153          9.1       ^^^   \n",
       "3           The Dark Knight  2008        152          9.0        84   \n",
       "4    The Godfather: Part II  1974        202          9.0        90   \n",
       "\n",
       "       Votes     Gross  \n",
       "0  2,463,054   $28.34M  \n",
       "1  1,703,352  $134.97M  \n",
       "2     89,915       ^^^  \n",
       "3  2,418,163  $534.86M  \n",
       "4  1,183,158   $57.30M  "
      ]
     },
     "execution_count": 8,
     "metadata": {},
     "output_type": "execute_result"
    }
   ],
   "source": [
    "df.head()"
   ]
  },
  {
   "cell_type": "code",
   "execution_count": 10,
   "id": "151f6111",
   "metadata": {},
   "outputs": [
    {
     "data": {
      "text/plain": [
       "(100, 7)"
      ]
     },
     "execution_count": 10,
     "metadata": {},
     "output_type": "execute_result"
    }
   ],
   "source": [
    "df.shape"
   ]
  },
  {
   "cell_type": "code",
   "execution_count": 12,
   "id": "e6f16c7c",
   "metadata": {},
   "outputs": [],
   "source": [
    "# df.to_csv('Top_100.csv')"
   ]
  },
  {
   "cell_type": "code",
   "execution_count": null,
   "id": "b5af572b",
   "metadata": {},
   "outputs": [],
   "source": []
  }
 ],
 "metadata": {
  "kernelspec": {
   "display_name": "Python 3",
   "language": "python",
   "name": "python3"
  },
  "language_info": {
   "codemirror_mode": {
    "name": "ipython",
    "version": 3
   },
   "file_extension": ".py",
   "mimetype": "text/x-python",
   "name": "python",
   "nbconvert_exporter": "python",
   "pygments_lexer": "ipython3",
   "version": "3.8.8"
  }
 },
 "nbformat": 4,
 "nbformat_minor": 5
}
